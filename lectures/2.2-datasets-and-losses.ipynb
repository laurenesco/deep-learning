{
 "cells": [
  {
   "cell_type": "markdown",
   "id": "12097e6e-a8ca-43ae-9630-e4c3070559d5",
   "metadata": {},
   "source": [
    "## Datasets and Losses\n",
    "\n",
    "Now we will look at how to implement one of the models discussed in 2.0. The two key components of **model fitting** are:\n",
    "1. A dataset that expresses the relationships between inputs and outputs\n",
    "2. A loss function that describes how good our model is outputting the correct output\n",
    "\n",
    "### Datasets\n",
    "\n",
    "Datasets include samples from a data generating distribution, and we use the associated labels to train the model.\n",
    "\n",
    "### Loss Functions\n",
    "\n",
    "What we use to determine how well the model infers the correct label given the input data. The loss function has two components. One is the element-wise loss ($l$), which measures how good the prediction of our model is on a single data item. We also have the expected loss ($L$), which is the average loss over the entire dataset. We will optimize $L$ in practice.\n",
    "\n",
    "$$ l(\\theta \\mid \\mathbf{x}_i, \\mathbf{y}_i) $$\n",
    "\n",
    "$$ L(\\theta \\mid \\mathcal{D}) = \\mathbb{E}_{(\\mathbf{x}_i, \\mathbf{y}_i) \\textasciitilde \\mathcal{D}} [l(\\theta \\mid \\mathbb{x},\\mathbb{y})] $$\n",
    "\n",
    "Different types of models will have different loss functions:\n",
    "\n",
    "<img src=\"./images/loss-functions.png\" width=\"500\" style=\"display: block; margin: auto;\">\n",
    "\n",
    "<br>\n",
    "\n",
    "### Model Fitting\n",
    "\n",
    "The next question we will address is how to find parameters $\\theta$ that best fit the dataset and model. We will do this by minimizing the overall loss over the dataset. Then, find the best parameter setting that minimizes the loss. \n",
    "\n",
    "In deep learning we use **gradient descent**, which requires two parts:\n",
    "1. The gradient: $\\nabla_\\theta \\; L(\\theta \\mid \\mathcal{D})$\n",
    "2. Optimizers to update $\\theta$\n",
    "\n",
    "<img src=\"./images/datasets-and-losses-tldr.png\" width=\"500\" style=\"display: block; margin: auto;\">\n",
    "\n",
    "<br>"
   ]
  }
 ],
 "metadata": {
  "kernelspec": {
   "display_name": "Python 3 (ipykernel)",
   "language": "python",
   "name": "python3"
  },
  "language_info": {
   "codemirror_mode": {
    "name": "ipython",
    "version": 3
   },
   "file_extension": ".py",
   "mimetype": "text/x-python",
   "name": "python",
   "nbconvert_exporter": "python",
   "pygments_lexer": "ipython3",
   "version": "3.11.11"
  }
 },
 "nbformat": 4,
 "nbformat_minor": 5
}
