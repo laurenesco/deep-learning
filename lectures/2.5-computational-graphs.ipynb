{
 "cells": [
  {
   "cell_type": "markdown",
   "id": "d862b4e8-0fdb-4c7c-8fe3-29fdf9a5e921",
   "metadata": {},
   "source": [
    "## Computational Graphs\n",
    "\n",
    "A tool developed in the field of deep learning to compute gradients very efficiently and with almost no direct input from the user.\n",
    "\n",
    "We can think of the math that needs to be completed to compute the loss of a function as a graph. We can take the math notation, the log likelihood of the softmax, for a specific output of the model y, and write this up as a simple function. Then, we can draw these functions as a graph.\n",
    "\n",
    "$l(\\theta\\mid\\mathbf{x,y})$ = log(softmax($\\mathbf{Wx+b}$))$_y$\\\n",
    "$l(\\theta\\mid\\mathbf{x,y})$ = index(log(softmax(add(matmul($\\mathbf{W,x}$),$\\mathbf{b}$))),$y$)\n",
    "\n",
    "<img src=\"./images/comp-graph.png\" width=\"500\" style=\"display: block; margin: auto;\">\n",
    "\n",
    "<br>\n",
    "\n",
    "The gradient of this function can be computed using the chain rule. (See lecture for demo). This can now be expressed in graph form as well.\n",
    "\n",
    "<img src=\"./images/grad-graph.png\" width=\"500\" style=\"display: block; margin: auto;\">\n",
    "\n",
    "<br>\n",
    "\n",
    "Unlike before, the arrows mean something slightly different. In the first graph, the represented inputs to functions. They now mean that the gradient is multiplied by the next gradient. Due to the sizes of the matrices and the operations required, we start from the back and work our way back toward the parameters when calculating gradient - this is **backpropogation**. This style also allows us to calculate the gradient of all parameters in a single pass.\n",
    "\n",
    "<img src=\"./images/back-graph.png\" width=\"500\" style=\"display: block; margin: auto;\">\n",
    "\n",
    "<br>\n",
    "\n",
    "Some info on backpropagation in pyTorch:\n",
    "\n",
    "<img src=\"./images/bp.png\" width=\"500\" style=\"display: block; margin: auto;\">\n",
    "\n",
    "<br>"
   ]
  }
 ],
 "metadata": {
  "kernelspec": {
   "display_name": "Python 3 (ipykernel)",
   "language": "python",
   "name": "python3"
  },
  "language_info": {
   "codemirror_mode": {
    "name": "ipython",
    "version": 3
   },
   "file_extension": ".py",
   "mimetype": "text/x-python",
   "name": "python",
   "nbconvert_exporter": "python",
   "pygments_lexer": "ipython3",
   "version": "3.11.11"
  }
 },
 "nbformat": 4,
 "nbformat_minor": 5
}
