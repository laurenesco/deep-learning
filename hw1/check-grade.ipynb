{
 "cells": [
  {
   "cell_type": "code",
   "execution_count": 18,
   "id": "a6c99174-eb93-491e-8cc4-a4d9665796b3",
   "metadata": {},
   "outputs": [
    {
     "name": "stdout",
     "output_type": "stream",
     "text": [
      "Package termcolor not found. Disabling colored output.\n",
      "Public grader loaded.\n",
      "[DEBUG    00:00:000] Loading assignment\n",
      "[DEBUG    00:00:008] Loading grader\n",
      "[INFO     00:00:008] Make it PyTorch\n",
      "[INFO     00:00:059]   - Make it pytorch 1                                  [ 3 / 3 ]\n",
      "[INFO     00:00:168]   - Make it pytorch 2                                  [ 3 / 3 ]\n",
      "[INFO     00:00:696]   - Make it pytorch 3                                  [ 3 / 3 ]\n",
      "[INFO     00:00:768]   - Make it pytorch 4                                  [ 3 / 3 ]\n",
      "[INFO     00:00:778]   - Make it pytorch 5                                  [ 3 / 3 ]\n",
      "[INFO     00:00:778]   - Make it pytorch 6                                  [ 3 / 3 ]\n",
      "[INFO     00:00:778]   - Make it pytorch 7                                  [ 3 / 3 ]\n",
      "[INFO     00:00:778]   - Make it pytorch 8                                  [ 3 / 3 ]\n",
      "[INFO     00:00:792]   - Make it pytorch 9                                  [ 4 / 4 ]\n",
      "[INFO     00:00:792]   - Make it pytorch 10                                 [ 4 / 4 ]\n",
      "[INFO     00:00:801]   - Make it pytorch 11                                 [ 4 / 4 ]\n",
      "[INFO     00:00:801]   - Make it pytorch 12                                 [ 4 / 4 ]\n",
      "[INFO     00:00:801]   - Make it pytorch extra 1                            [ 1 / 1 ]\n",
      "[INFO     00:00:809]   - Make it pytorch extra 2                            [ 1 / 1 ]\n",
      "[INFO     00:00:809]  --------------------------------------------------    [  42 /  40 ]\n",
      "[INFO     00:00:817] NN Grader\n",
      "[INFO     00:00:819]   - Test with single-element input lists.              [ 2 / 2 ]\n",
      "[INFO     00:00:819]   - Test with multiple elements in input lists.        [ 3 / 3 ]\n",
      "[INFO     00:00:819]   - 2D tensor statistics with different shapes.        [ 5 / 5 ]\n",
      "[INFO     00:00:819]   - Input normalization                                [ 5 / 5 ]\n",
      "[INFO     00:00:819]   - Nearest Neighbors                                  [ 5 / 5 ]\n",
      "[INFO     00:00:825]   - K-Nearest Neighbors                                [ 5 / 5 ]\n",
      "[INFO     00:00:825]   - K-Nearest Neighbors Regression                     [ 5 / 5 ]\n",
      "[INFO     00:00:825]  --------------------------------------------------    [  30 /  30 ]\n",
      "[INFO     00:00:826] Weather Forecast Grader\n",
      "[INFO     00:00:829]   - Find min and max per day                           [ 5 / 5 ]\n",
      "[INFO     00:00:829]   - Find largest average temperature drop              [ 5 / 5 ]\n",
      "[INFO     00:00:829]   - Find most extreme day                              [ 5 / 5 ]\n",
      "[INFO     00:00:833]   - Max temperature                                    [ 5 / 5 ]\n",
      "[INFO     00:00:834]   - Predict the temperature                            [ 5 / 5 ]\n",
      "[INFO     00:00:834]   - What day is this from?                             [ 5 / 5 ]\n",
      "[INFO     00:00:834]  --------------------------------------------------    [  30 /  30 ]\n",
      "[INFO     00:00:834] Total                                                    102 / 100\n"
     ]
    }
   ],
   "source": [
    "# Grade the code\n",
    "!python -m grader homework -vv"
   ]
  },
  {
   "cell_type": "code",
   "execution_count": 19,
   "id": "c50b409c-340c-4995-bb30-e0334ffaa722",
   "metadata": {},
   "outputs": [
    {
     "name": "stdout",
     "output_type": "stream",
     "text": [
      "nearest_neighbor_classifier.py\n",
      "pytorch_basics.py\n",
      "weather_forecast.py\n",
      "__init__.py\n",
      "Submission created: C:\\Users\\laesc\\Desktop\\deep-learning\\hw1\\le7626.zip 0.00 MB\n"
     ]
    }
   ],
   "source": [
    "# Bundle her up\n",
    "!python bundle.py homework le7626"
   ]
  },
  {
   "cell_type": "code",
   "execution_count": 20,
   "id": "e01f3da5-c449-454a-891f-77a8ac045c65",
   "metadata": {},
   "outputs": [
    {
     "name": "stdout",
     "output_type": "stream",
     "text": [
      "Package termcolor not found. Disabling colored output.\n",
      "Public grader loaded.\n",
      "[INFO     00:00:075] Make it PyTorch\n",
      "[INFO     00:00:853]  * Make it PyTorch                                     [  42 /  40 ]\n",
      "[INFO     00:00:862] NN Grader\n",
      "[INFO     00:00:871]  * NN Grader                                           [  30 /  30 ]\n",
      "[INFO     00:00:872] Weather Forecast Grader\n",
      "[INFO     00:00:872]  * Weather Forecast Grader                             [  30 /  30 ]\n",
      "[INFO     00:00:879] Total                                                    102 / 100\n"
     ]
    }
   ],
   "source": [
    "# Check the bundling\n",
    "!python -m grader le7626.zip"
   ]
  }
 ],
 "metadata": {
  "kernelspec": {
   "display_name": "Python 3 (ipykernel)",
   "language": "python",
   "name": "python3"
  },
  "language_info": {
   "codemirror_mode": {
    "name": "ipython",
    "version": 3
   },
   "file_extension": ".py",
   "mimetype": "text/x-python",
   "name": "python",
   "nbconvert_exporter": "python",
   "pygments_lexer": "ipython3",
   "version": "3.11.11"
  }
 },
 "nbformat": 4,
 "nbformat_minor": 5
}
