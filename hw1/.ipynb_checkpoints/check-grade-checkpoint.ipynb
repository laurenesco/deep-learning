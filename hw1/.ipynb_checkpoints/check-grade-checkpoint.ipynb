{
 "cells": [
  {
   "cell_type": "code",
   "execution_count": 12,
   "id": "a6c99174-eb93-491e-8cc4-a4d9665796b3",
   "metadata": {},
   "outputs": [
    {
     "name": "stdout",
     "output_type": "stream",
     "text": [
      "Package termcolor not found. Disabling colored output.\n",
      "Public grader loaded.\n",
      "[DEBUG    00:00:000] Loading assignment\n",
      "[DEBUG    00:00:012] Loading grader\n",
      "[INFO     00:00:016] Make it PyTorch\n",
      "[INFO     00:00:062]   - Make it pytorch 1                                  [ 3 / 3 ]\n",
      "[INFO     00:00:183]   - Make it pytorch 2                                  [ 3 / 3 ]\n",
      "[INFO     00:00:738]   - Make it pytorch 3                                  [ 3 / 3 ]\n",
      "[INFO     00:00:805]   - Make it pytorch 4                                  [ 3 / 3 ]\n",
      "[INFO     00:00:814]   - Make it pytorch 5                                  [ 3 / 3 ]\n",
      "[INFO     00:00:814]   - Make it pytorch 6                                  [ 3 / 3 ]\n",
      "[INFO     00:00:814]   - Make it pytorch 7                                  [ 3 / 3 ]\n",
      "[INFO     00:00:821]   - Make it pytorch 8                                  [ 3 / 3 ]\n",
      "[INFO     00:00:830]   - Make it pytorch 9                                  [ 4 / 4 ]\n",
      "[INFO     00:00:835]   - Make it pytorch 10                                 [ 4 / 4 ]\n",
      "[INFO     00:00:838]   - Make it pytorch 11                                 [ 4 / 4 ]\n",
      "[INFO     00:00:838]   - Make it pytorch 12                                 [ 4 / 4 ]\n",
      "[INFO     00:00:838]   - Make it pytorch extra 1                            [ 1 / 1 ]\n",
      "[INFO     00:00:846]   - Make it pytorch extra 2                            [ 1 / 1 ]\n",
      "[INFO     00:00:846]  --------------------------------------------------    [  42 /  40 ]\n",
      "[INFO     00:00:854] NN Grader\n",
      "[INFO     00:00:856]   - Test with single-element input lists.              [ 2 / 2 ]\n",
      "[INFO     00:00:856]   - Test with multiple elements in input lists.        [ 3 / 3 ]\n",
      "[INFO     00:00:856]   - 2D tensor statistics with different shapes.        [ 5 / 5 ]\n",
      "[INFO     00:00:856]   - Input normalization                                [ 5 / 5 ]\n",
      "[INFO     00:00:856]   - Nearest Neighbors                                  [ 5 / 5 ]\n",
      "[INFO     00:00:856]   - K-Nearest Neighbors                                [ 5 / 5 ]\n",
      "[INFO     00:00:856]   - K-Nearest Neighbors Regression                     [ 5 / 5 ]\n",
      "[INFO     00:00:856]  --------------------------------------------------    [  30 /  30 ]\n",
      "[INFO     00:00:863] Weather Forecast Grader\n",
      "[INFO     00:00:866]   - Find min and max per day                           [ 5 / 5 ]\n",
      "[INFO     00:00:866]   - Find largest average temperature drop              [ 5 / 5 ]\n",
      "[INFO     00:00:866]   - Find most extreme day                              [ 5 / 5 ]\n",
      "[INFO     00:00:866]   - Max temperature                                    [ 5 / 5 ]\n",
      "[INFO     00:00:866]   - Predict the temperature                            [ 5 / 5 ]\n",
      "[INFO     00:00:866]   - What day is this from?                             [ 5 / 5 ]\n",
      "[INFO     00:00:866]  --------------------------------------------------    [  30 /  30 ]\n",
      "[INFO     00:00:866] Total                                                    102 / 100\n"
     ]
    }
   ],
   "source": [
    "# Grade the code\n",
    "!python -m grader homework -vv"
   ]
  },
  {
   "cell_type": "code",
   "execution_count": null,
   "id": "e01f3da5-c449-454a-891f-77a8ac045c65",
   "metadata": {},
   "outputs": [],
   "source": []
  }
 ],
 "metadata": {
  "kernelspec": {
   "display_name": "Python 3 (ipykernel)",
   "language": "python",
   "name": "python3"
  },
  "language_info": {
   "codemirror_mode": {
    "name": "ipython",
    "version": 3
   },
   "file_extension": ".py",
   "mimetype": "text/x-python",
   "name": "python",
   "nbconvert_exporter": "python",
   "pygments_lexer": "ipython3",
   "version": "3.11.11"
  }
 },
 "nbformat": 4,
 "nbformat_minor": 5
}
