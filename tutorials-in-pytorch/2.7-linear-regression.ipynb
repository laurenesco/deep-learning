{
 "cells": [
  {
   "cell_type": "markdown",
   "id": "fb74566a-c597-418b-9804-994d524cc3ad",
   "metadata": {},
   "source": [
    "## Linear Regression\n",
    "\n",
    "<img src=\"my_image.png\" width=\"400\">"
   ]
  },
  {
   "cell_type": "code",
   "execution_count": 2,
   "id": "2db0a5e9-98bf-4e91-a45a-237ef978d194",
   "metadata": {},
   "outputs": [],
   "source": [
    "import torch\n",
    "import torch.nn as nn"
   ]
  },
  {
   "cell_type": "code",
   "execution_count": 28,
   "id": "b1f5b864-dab0-461e-87ee-24ef3473574e",
   "metadata": {
    "scrolled": true
   },
   "outputs": [
    {
     "name": "stdout",
     "output_type": "stream",
     "text": [
      "Parameter containing:\n",
      "tensor([[-0.2726, -0.1904,  0.1215,  0.1054,  0.0621,  0.1855,  0.2700, -0.1199,\n",
      "         -0.1874, -0.0485]], requires_grad=True)\n",
      "Parameter containing:\n",
      "tensor([0.1226], requires_grad=True)\n"
     ]
    }
   ],
   "source": [
    "# Create a linear regression model\n",
    "# Arguments: # of inputs, # of outputs\n",
    "\n",
    "# Note: Each time you reload the model you will get slightly different results,\n",
    "#       since the model is initialized with different weights. This is important.\n",
    "\n",
    "model = nn.Linear(10, 1) \n",
    "\n",
    "# Inspect the model \n",
    "print(model.weight)\n",
    "print(model.bias) # Only one bias since only one output"
   ]
  },
  {
   "cell_type": "code",
   "execution_count": 29,
   "id": "c7a21ac2-0ab4-4ec7-a649-00e99145154e",
   "metadata": {},
   "outputs": [
    {
     "data": {
      "text/plain": [
       "tensor([0.0483], grad_fn=<ViewBackward0>)"
      ]
     },
     "execution_count": 29,
     "metadata": {},
     "output_type": "execute_result"
    }
   ],
   "source": [
    "x = torch.ones(10)\n",
    "model(x)"
   ]
  },
  {
   "cell_type": "markdown",
   "id": "b9e81c43-4a35-4c83-b31f-ca8460905a21",
   "metadata": {},
   "source": [
    "**Notes:** Linear models are ***not*** good for cyclic functions or quadratic functions. They cannot do anything that really is not a nice straight line."
   ]
  },
  {
   "cell_type": "code",
   "execution_count": null,
   "id": "7d8c1352-92e6-4a4c-aa2e-889e53d9d1ed",
   "metadata": {},
   "outputs": [],
   "source": []
  }
 ],
 "metadata": {
  "kernelspec": {
   "display_name": "Python 3 (ipykernel)",
   "language": "python",
   "name": "python3"
  },
  "language_info": {
   "codemirror_mode": {
    "name": "ipython",
    "version": 3
   },
   "file_extension": ".py",
   "mimetype": "text/x-python",
   "name": "python",
   "nbconvert_exporter": "python",
   "pygments_lexer": "ipython3",
   "version": "3.11.11"
  }
 },
 "nbformat": 4,
 "nbformat_minor": 5
}
