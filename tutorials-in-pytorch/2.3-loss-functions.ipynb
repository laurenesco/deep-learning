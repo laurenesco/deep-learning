{
 "cells": [
  {
   "cell_type": "code",
   "execution_count": null,
   "id": "3c7f4e57-046b-40a9-a590-e2fe6c6a1129",
   "metadata": {},
   "outputs": [],
   "source": [
    "import torch"
   ]
  },
  {
   "cell_type": "markdown",
   "id": "c49d17a0-873d-418c-984a-df453f55ebee",
   "metadata": {},
   "source": [
    "## Linear Regression"
   ]
  },
  {
   "cell_type": "code",
   "execution_count": 10,
   "id": "07a9327f-6558-465d-918f-ce0c1628a0ac",
   "metadata": {},
   "outputs": [
    {
     "name": "stdout",
     "output_type": "stream",
     "text": [
      "tensor([[-0.0529],\n",
      "        [-0.3090],\n",
      "        [-0.1092],\n",
      "        [ 0.2917],\n",
      "        [-0.4269],\n",
      "        [-0.1051],\n",
      "        [ 0.0804],\n",
      "        [-0.2211],\n",
      "        [ 0.8506],\n",
      "        [ 0.3690],\n",
      "        [-0.3556],\n",
      "        [-1.2077],\n",
      "        [ 0.0609],\n",
      "        [-0.1413],\n",
      "        [ 0.1840],\n",
      "        [-0.7375],\n",
      "        [-0.7470],\n",
      "        [ 0.7011],\n",
      "        [-0.7076],\n",
      "        [-0.8083]], grad_fn=<AddmmBackward0>)\n",
      "tensor(1.4125, grad_fn=<MseLossBackward0>)\n",
      "tensor(1.4125, grad_fn=<MeanBackward0>)\n"
     ]
    }
   ],
   "source": [
    "# We will start with a linear model\n",
    "model = torch.nn.Linear(10, 1)\n",
    "\n",
    "# Let's create some random data to test with\n",
    "x = torch.randn(20, 10)\n",
    "y = torch.randn(20, 1)\n",
    "\n",
    "# To make a prediction, we simply call the model on our inputs x\n",
    "pred_y = model(x)\n",
    "print(pred_y)\n",
    "\n",
    "# Now, to compare y and pred_y we need to use some type of loss function.\n",
    "# For regression, we can use MSE, L1, or L2 loss.\n",
    "\n",
    "# We can use the baked in version: torch.nn.functional.mse_loss(prediction, actual)\n",
    "baked_in_mse_loss = torch.nn.functional.mse_loss(pred_y, y)\n",
    "print(baked_in_mse_loss)\n",
    "\n",
    "# Or we can calculate it ourselves\n",
    "def mse_loss(pred_y, y):\n",
    "    return torch.mean((pred_y - y) ** 2)\n",
    "\n",
    "print(mse_loss(pred_y, y))"
   ]
  },
  {
   "cell_type": "markdown",
   "id": "a6954192-7b0f-463e-a638-7aa1a47f8b38",
   "metadata": {},
   "source": [
    "## Binary Classification"
   ]
  },
  {
   "cell_type": "code",
   "execution_count": 13,
   "id": "a942bd49-0782-49a4-a638-2b0529115ef3",
   "metadata": {},
   "outputs": [
    {
     "data": {
      "text/plain": [
       "tensor(0.7555, grad_fn=<BinaryCrossEntropyWithLogitsBackward0>)"
      ]
     },
     "execution_count": 13,
     "metadata": {},
     "output_type": "execute_result"
    }
   ],
   "source": [
    "# This time, we need our expected values to be labels, 0 or 1. An easy way to do this\n",
    "# is to assign the random values to 0 if < 0, and 1 otherwise.\n",
    "y = (torch.randn(20, 1) > 0).float()\n",
    "\n",
    "# For binary classification, our loss function is binary cross entropy. To use the same \n",
    "# linear model we already created, we use the with_logits version, as that version adds\n",
    "# the sigmoid for us.\n",
    "loss = torch.nn.functional.binary_cross_entropy_with_logits(pred_y, y)\n",
    "loss"
   ]
  },
  {
   "cell_type": "markdown",
   "id": "8edc39a8-f1e1-42b1-8aa2-4bc8026f0fa1",
   "metadata": {},
   "source": [
    "## Multiclass Classification"
   ]
  },
  {
   "cell_type": "code",
   "execution_count": 17,
   "id": "e0c2d353-58f2-42c6-9777-54e00695c634",
   "metadata": {},
   "outputs": [
    {
     "data": {
      "text/plain": [
       "tensor(1.1655, grad_fn=<NllLossBackward0>)"
      ]
     },
     "execution_count": 17,
     "metadata": {},
     "output_type": "execute_result"
    }
   ],
   "source": [
    "# For this, we will need to modify the model slightly because the output\n",
    "# dimension must match the number of classes we are classifying\n",
    "n_classes = 3\n",
    "model = torch.nn.Linear(10, n_classes)\n",
    "\n",
    "# Now we need to create a dataset with 3 classes\n",
    "y = (torch.randn(20) > 0).long() + (torch.randn(20) > 0).long()\n",
    "\n",
    "pred_y = model(x)\n",
    "\n",
    "# And to calculate the loss we will use \n",
    "loss = torch.nn.functional.cross_entropy(pred_y, y)\n",
    "loss"
   ]
  }
 ],
 "metadata": {
  "kernelspec": {
   "display_name": "Python 3 (ipykernel)",
   "language": "python",
   "name": "python3"
  },
  "language_info": {
   "codemirror_mode": {
    "name": "ipython",
    "version": 3
   },
   "file_extension": ".py",
   "mimetype": "text/x-python",
   "name": "python",
   "nbconvert_exporter": "python",
   "pygments_lexer": "ipython3",
   "version": "3.11.11"
  }
 },
 "nbformat": 4,
 "nbformat_minor": 5
}
